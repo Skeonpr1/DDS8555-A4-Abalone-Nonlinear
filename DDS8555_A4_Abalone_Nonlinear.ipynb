{
 "cells": [
  {
   "cell_type": "markdown",
   "id": "2d79456c",
   "metadata": {},
   "source": [
    "# DDS‑8555 Assignment 4 — Abalone Nonlinear Models\n",
    "\n",
    "**Model 1:** PolynomialFeatures + Ridge  \n",
    "**Model 2:** SplineTransformer + Ridge  \n",
    "\n",
    "Trains two nonlinear models, evaluates 3‑fold out‑of‑fold (OOF) RMSE, saves Kaggle‑ready submissions, and embeds the submission results."
   ]
  },
  {
   "cell_type": "markdown",
   "id": "60a92e56",
   "metadata": {},
   "source": [
    "## Imports, Paths, and Data Load"
   ]
  },
  {
   "cell_type": "code",
   "execution_count": null,
   "id": "232c5f94",
   "metadata": {},
   "outputs": [],
   "source": [
    "\n",
    "import pandas as pd, numpy as np\n",
    "from pathlib import Path\n",
    "from sklearn.compose import ColumnTransformer\n",
    "from sklearn.pipeline import Pipeline\n",
    "from sklearn.impute import SimpleImputer\n",
    "from sklearn.preprocessing import OneHotEncoder, StandardScaler, PolynomialFeatures, SplineTransformer\n",
    "from sklearn.linear_model import Ridge\n",
    "from sklearn.model_selection import KFold, cross_val_predict\n",
    "from sklearn.metrics import mean_squared_error\n",
    "import matplotlib.pyplot as plt\n",
    "\n",
    "BASE = Path('.'); DATA = BASE/'data'; FIGS = BASE/'figs'; OUT = BASE/'outputs'\n",
    "for d in [DATA, FIGS, OUT]: d.mkdir(exist_ok=True, parents=True)\n",
    "\n",
    "def load_csv(name):\n",
    "    p1 = DATA/name\n",
    "    if p1.exists(): return pd.read_csv(p1)\n",
    "    return pd.read_csv(Path('/mnt/data')/name)\n",
    "\n",
    "train_df = load_csv('train.csv')\n",
    "test_df = load_csv('test.csv')\n",
    "sample_sub = load_csv('sample_submission.csv')\n",
    "\n",
    "print('Train shape:', train_df.shape, 'Test shape:', test_df.shape)\n",
    "print('Sample submission columns:', list(sample_sub.columns))\n"
   ]
  },
  {
   "cell_type": "markdown",
   "id": "022130ff",
   "metadata": {},
   "source": [
    "## Target, Features, and Preprocessing"
   ]
  },
  {
   "cell_type": "code",
   "execution_count": null,
   "id": "79abcb7c",
   "metadata": {},
   "outputs": [],
   "source": [
    "\n",
    "diff_cols = [c for c in train_df.columns if c not in test_df.columns]\n",
    "target_col = diff_cols[0] if len(diff_cols)==1 else 'Rings' if 'Rings' in train_df.columns else diff_cols[0]\n",
    "id_col, pred_col = sample_sub.columns[0], sample_sub.columns[-1]\n",
    "\n",
    "X, y = train_df.drop(columns=[target_col]), train_df[target_col].values\n",
    "X_test = test_df.copy()\n",
    "\n",
    "num_features = X.select_dtypes(include=[np.number]).columns.tolist()\n",
    "cat_features = X.select_dtypes(exclude=[np.number]).columns.tolist()\n",
    "\n",
    "num_imputer = SimpleImputer(strategy='median')\n",
    "cat_imputer = SimpleImputer(strategy='most_frequent')\n"
   ]
  },
  {
   "cell_type": "markdown",
   "id": "88f4b6df",
   "metadata": {},
   "source": [
    "## Model 1 — PolynomialFeatures + Ridge"
   ]
  },
  {
   "cell_type": "code",
   "execution_count": null,
   "id": "ac18a7a5",
   "metadata": {},
   "outputs": [],
   "source": [
    "\n",
    "num_pipe_poly = Pipeline([('imputer', num_imputer),\n",
    "                          ('scaler', StandardScaler()),\n",
    "                          ('poly', PolynomialFeatures(degree=2, include_bias=False))])\n",
    "cat_pipe = Pipeline([('imputer', cat_imputer),\n",
    "                     ('ohe', OneHotEncoder(handle_unknown='ignore'))])\n",
    "preprocess_poly = ColumnTransformer([('num', num_pipe_poly, num_features),\n",
    "                                     ('cat', cat_pipe, cat_features)])\n",
    "model1 = Pipeline([('preprocess', preprocess_poly),\n",
    "                   ('ridge', Ridge(alpha=1.0, random_state=42))])\n",
    "\n",
    "cv = KFold(n_splits=3, shuffle=True, random_state=42)\n",
    "oof_pred1 = cross_val_predict(model1, X, y, cv=cv)\n",
    "rmse1 = float(np.sqrt(mean_squared_error(y, oof_pred1)))\n",
    "print('Model 1 OOF RMSE:', rmse1)\n",
    "\n",
    "model1.fit(X, y)\n",
    "pred1 = np.maximum(model1.predict(X_test), 0.0)\n",
    "sub1 = pd.DataFrame({id_col: sample_sub[id_col].values, pred_col: pred1})\n",
    "sub1.to_csv(OUT/'submission_model1_polyridge.csv', index=False)\n",
    "\n",
    "plt.figure(); plt.scatter(y, oof_pred1, s=12)\n",
    "plt.xlabel('True'); plt.ylabel('OOF Pred (M1)'); plt.title('M1: OOF Pred vs True')\n",
    "plt.savefig(FIGS/'model1_pred_vs_true.png', dpi=160, bbox_inches='tight'); plt.close()\n",
    "\n",
    "res1 = y - oof_pred1\n",
    "plt.figure(); plt.scatter(oof_pred1, res1, s=12); plt.axhline(0, lw=1)\n",
    "plt.xlabel('OOF Pred (M1)'); plt.ylabel('Residuals'); plt.title('M1: Residuals vs Pred')\n",
    "plt.savefig(FIGS/'model1_residuals.png', dpi=160, bbox_inches='tight'); plt.close()\n"
   ]
  },
  {
   "cell_type": "markdown",
   "id": "f6158a68",
   "metadata": {},
   "source": [
    "## Model 2 — SplineTransformer + Ridge"
   ]
  },
  {
   "cell_type": "code",
   "execution_count": null,
   "id": "ef333adb",
   "metadata": {},
   "outputs": [],
   "source": [
    "\n",
    "num_pipe_spline = Pipeline([('imputer', num_imputer),\n",
    "                            ('spline', SplineTransformer(degree=3, n_knots=6, include_bias=False)),\n",
    "                            ('scaler', StandardScaler())])\n",
    "preprocess_spline = ColumnTransformer([('num', num_pipe_spline, num_features),\n",
    "                                       ('cat', cat_pipe, cat_features)])\n",
    "model2 = Pipeline([('preprocess', preprocess_spline),\n",
    "                   ('ridge', Ridge(alpha=1.0, random_state=42))])\n",
    "\n",
    "oof_pred2 = cross_val_predict(model2, X, y, cv=cv)\n",
    "rmse2 = float(np.sqrt(mean_squared_error(y, oof_pred2)))\n",
    "print('Model 2 OOF RMSE:', rmse2)\n",
    "\n",
    "model2.fit(X, y)\n",
    "pred2 = np.maximum(model2.predict(X_test), 0.0)\n",
    "sub2 = pd.DataFrame({id_col: sample_sub[id_col].values, pred_col: pred2})\n",
    "sub2.to_csv(OUT/'submission_model2_splineridge.csv', index=False)\n",
    "\n",
    "plt.figure(); plt.scatter(y, oof_pred2, s=12)\n",
    "plt.xlabel('True'); plt.ylabel('OOF Pred (M2)'); plt.title('M2: OOF Pred vs True')\n",
    "plt.savefig(FIGS/'model2_pred_vs_true.png', dpi=160, bbox_inches='tight'); plt.close()\n",
    "\n",
    "res2 = y - oof_pred2\n",
    "plt.figure(); plt.scatter(oof_pred2, res2, s=12); plt.axhline(0, lw=1)\n",
    "plt.xlabel('OOF Pred (M2)'); plt.ylabel('Residuals'); plt.title('M2: Residuals vs Pred')\n",
    "plt.savefig(FIGS/'model2_residuals.png', dpi=160, bbox_inches='tight'); plt.close()\n",
    "\n",
    "cv_summary = pd.DataFrame({'Model':['Polynomial+Ridge','Spline+Ridge'],\n",
    "                           'OOF_RMSE':[rmse1, rmse2]})\n",
    "cv_summary.to_csv(OUT/'cv_summary.csv', index=False)\n",
    "cv_summary\n"
   ]
  },
  {
   "cell_type": "markdown",
   "id": "a0b98d19",
   "metadata": {},
   "source": [
    "## Kaggle Submission Results\n",
    "\n",
    "![Kaggle Results](figs/kaggle_results.png)\n",
    "\n",
    "Record your public and private scores here for the submission you selected."
   ]
  }
 ],
 "metadata": {},
 "nbformat": 4,
 "nbformat_minor": 5
}
